{
  "nbformat": 4,
  "nbformat_minor": 0,
  "metadata": {
    "colab": {
      "provenance": []
    },
    "kernelspec": {
      "name": "python3",
      "display_name": "Python 3"
    }
  },
  "cells": [
    {
      "cell_type": "code",
      "metadata": {
        "id": "3N3c0JXMgQyA",
        "colab": {
          "base_uri": "https://localhost:8080/"
        },
        "outputId": "c7014388-50e1-4602-84e0-60df00f868cd"
      },
      "source": [
        "mystr=\"hrishikesh\";\n",
        "print(mystr[2]);"
      ],
      "execution_count": null,
      "outputs": [
        {
          "output_type": "stream",
          "text": [
            "i\n"
          ],
          "name": "stdout"
        }
      ]
    },
    {
      "cell_type": "code",
      "metadata": {
        "id": "idHPHhfEkHXs",
        "colab": {
          "base_uri": "https://localhost:8080/",
          "height": 35
        },
        "outputId": "ba03df59-ce60-49fe-cc3d-6fd34b1df279"
      },
      "source": [
        "mystr=\"dhdskjfhkjehfkjehfuewiufhuefiuewhfkjewhkfhewuhfuewhfewhfkjewhfkjheskjfhekjhfkjdshfkjdshfkjherkufhkusejfhkwjerufeurfwuiehfw\"\n",
        "print(mystr[len(mystr)-1]);\n"
      ],
      "execution_count": null,
      "outputs": [
        {
          "output_type": "stream",
          "text": [
            "w\n"
          ],
          "name": "stdout"
        }
      ]
    },
    {
      "cell_type": "code",
      "metadata": {
        "id": "-3gZ91BLkx4i",
        "colab": {
          "base_uri": "https://localhost:8080/",
          "height": 35
        },
        "outputId": "1c3d6086-bc60-4edf-85c5-537ab68a476b"
      },
      "source": [
        "mystr=\"djfhiwbfiuwbefiubwdiucbewiucniuwenciuwneciu\"\n",
        "print(mystr[-1])"
      ],
      "execution_count": null,
      "outputs": [
        {
          "output_type": "stream",
          "text": [
            "u\n"
          ],
          "name": "stdout"
        }
      ]
    },
    {
      "cell_type": "code",
      "metadata": {
        "id": "2TJ-ig4fleNA",
        "colab": {
          "base_uri": "https://localhost:8080/",
          "height": 207
        },
        "outputId": "4ad3749c-d7f4-4124-bd26-b14a2d435b32"
      },
      "source": [
        "a=\"hrishi\"\n",
        "for a in range(mystr[-1],mystr[1]):\n",
        "  print(a);"
      ],
      "execution_count": null,
      "outputs": [
        {
          "output_type": "error",
          "ename": "TypeError",
          "evalue": "ignored",
          "traceback": [
            "\u001b[0;31m---------------------------------------------------------------------------\u001b[0m",
            "\u001b[0;31mTypeError\u001b[0m                                 Traceback (most recent call last)",
            "\u001b[0;32m<ipython-input-11-b793ad75abfe>\u001b[0m in \u001b[0;36m<module>\u001b[0;34m()\u001b[0m\n\u001b[1;32m      1\u001b[0m \u001b[0ma\u001b[0m\u001b[0;34m=\u001b[0m\u001b[0;34m\"hrishi\"\u001b[0m\u001b[0;34m\u001b[0m\u001b[0;34m\u001b[0m\u001b[0m\n\u001b[0;32m----> 2\u001b[0;31m \u001b[0;32mfor\u001b[0m \u001b[0ma\u001b[0m \u001b[0;32min\u001b[0m \u001b[0mrange\u001b[0m\u001b[0;34m(\u001b[0m\u001b[0mmystr\u001b[0m\u001b[0;34m[\u001b[0m\u001b[0;34m-\u001b[0m\u001b[0;36m1\u001b[0m\u001b[0;34m]\u001b[0m\u001b[0;34m,\u001b[0m\u001b[0mmystr\u001b[0m\u001b[0;34m[\u001b[0m\u001b[0;36m1\u001b[0m\u001b[0;34m]\u001b[0m\u001b[0;34m)\u001b[0m\u001b[0;34m:\u001b[0m\u001b[0;34m\u001b[0m\u001b[0;34m\u001b[0m\u001b[0m\n\u001b[0m\u001b[1;32m      3\u001b[0m   \u001b[0mprint\u001b[0m\u001b[0;34m(\u001b[0m\u001b[0ma\u001b[0m\u001b[0;34m)\u001b[0m\u001b[0;34m;\u001b[0m\u001b[0;34m\u001b[0m\u001b[0;34m\u001b[0m\u001b[0m\n",
            "\u001b[0;31mTypeError\u001b[0m: 'str' object cannot be interpreted as an integer"
          ]
        }
      ]
    },
    {
      "cell_type": "code",
      "metadata": {
        "id": "4t_1DKdHpqbI",
        "colab": {
          "base_uri": "https://localhost:8080/",
          "height": 145
        },
        "outputId": "d7d30d08-dc7a-41c7-b846-11a9fa7b6741"
      },
      "source": [
        "a=\"welcome\"\n",
        "cnt=-1\n",
        "for i in range(0,len(a),1):\n",
        "  print(a[cnt]);\n",
        "  cnt=cnt-1;\n",
        "\n"
      ],
      "execution_count": null,
      "outputs": [
        {
          "output_type": "stream",
          "text": [
            "e\n",
            "m\n",
            "o\n",
            "c\n",
            "l\n",
            "e\n",
            "w\n"
          ],
          "name": "stdout"
        }
      ]
    },
    {
      "cell_type": "code",
      "metadata": {
        "id": "7JUq1Y3Sxq8V",
        "colab": {
          "base_uri": "https://localhost:8080/",
          "height": 199
        },
        "outputId": "13ec95d1-c078-4eab-b5fa-34810e4f9791"
      },
      "source": [
        "a=\"hrishikesh\"\n",
        "for i in a:\n",
        "  print(i);\n"
      ],
      "execution_count": null,
      "outputs": [
        {
          "output_type": "stream",
          "text": [
            "h\n",
            "r\n",
            "i\n",
            "s\n",
            "h\n",
            "i\n",
            "k\n",
            "e\n",
            "s\n",
            "h\n"
          ],
          "name": "stdout"
        }
      ]
    },
    {
      "cell_type": "code",
      "metadata": {
        "id": "N1Gp-fZN0GP0",
        "colab": {
          "base_uri": "https://localhost:8080/",
          "height": 181
        },
        "outputId": "555a76f5-d711-4a08-ee09-77a7fe9333bf"
      },
      "source": [
        "a=\"welcome\"\n",
        "print(a[0:3:1]);\n",
        "print(a[3:7:1]);\n",
        "print(a[0:7:2]);\n",
        "print(a[0:3]);\n",
        "print(a[ :3]);\n",
        "print(a[ : : ]);\n",
        "print(a[ : :2]);\n",
        "print(a[ : :-1]);\n",
        "print(a[ : : 7])"
      ],
      "execution_count": null,
      "outputs": [
        {
          "output_type": "stream",
          "text": [
            "wel\n",
            "come\n",
            "wloe\n",
            "wel\n",
            "wel\n",
            "welcome\n",
            "wloe\n",
            "emoclew\n",
            "w\n"
          ],
          "name": "stdout"
        }
      ]
    }
  ]
}