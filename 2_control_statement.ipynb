{
  "nbformat": 4,
  "nbformat_minor": 0,
  "metadata": {
    "colab": {
      "provenance": []
    },
    "kernelspec": {
      "name": "python3",
      "display_name": "Python 3"
    }
  },
  "cells": [
    {
      "cell_type": "code",
      "metadata": {
        "id": "sMyXPi3jIJAy",
        "outputId": "18c2881e-7cd2-4d4f-b526-05993ca65c00",
        "colab": {
          "base_uri": "https://localhost:8080/",
          "height": 54
        }
      },
      "source": [
        "a=7\n",
        "if a==4:\n",
        "  print(\"this is true\");\n",
        "else:\n",
        "  print(\"this is false\");\n",
        "print(\"this is the final result\");"
      ],
      "execution_count": null,
      "outputs": [
        {
          "output_type": "stream",
          "text": [
            "this is false\n",
            "this is the final result\n"
          ],
          "name": "stdout"
        }
      ]
    },
    {
      "cell_type": "code",
      "metadata": {
        "id": "rRF79AgGQuwp",
        "outputId": "e22982c3-a1ce-4343-f716-cc28da502476",
        "colab": {
          "base_uri": "https://localhost:8080/",
          "height": 51
        }
      },
      "source": [
        "game=input(\"enter you favourite game___\")\n",
        "print(\"my favourite game is \",game)"
      ],
      "execution_count": null,
      "outputs": [
        {
          "output_type": "stream",
          "text": [
            "enter you favourite game___hrishi\n",
            "my favourite game is  hrishi\n"
          ],
          "name": "stdout"
        }
      ]
    },
    {
      "cell_type": "code",
      "metadata": {
        "id": "igEZWQoURW9J",
        "outputId": "e94c697c-3511-4b1d-ca24-2d9922287829",
        "colab": {
          "base_uri": "https://localhost:8080/",
          "height": 187
        }
      },
      "source": [
        "name=input(\"your name is \");\n",
        "age=input(\"your age is \");\n",
        "address=input(\"your adress is \");\n",
        "print(\"your SECRET ID IS\");\n",
        "print(\"name=\",name);\n",
        "print(\"age=\",age);\n",
        "print(\"adress=\",address);\n",
        "print(\"DONT SHARE THIS WITH ANYONE!\");\n",
        "a=0\n",
        "if a==0:\n",
        "  print(\"thank you for your precious time!!!\");\n",
        "else:\n",
        "  print(\"please re enter!\");\n",
        "print(\"SEE YA DUDE!\")\n",
        "\n",
        ""
      ],
      "execution_count": null,
      "outputs": [
        {
          "output_type": "stream",
          "text": [
            "your name is hrishi\n",
            "your age is 13\n",
            "your adress is nagpur\n",
            "your SECRET ID IS\n",
            "name= hrishi\n",
            "age= 13\n",
            "adress= nagpur\n",
            "DONT SHARE THIS WITH ANYONE!\n",
            "thank you for your precious time!!!\n",
            "SEE YA DUDE!\n"
          ],
          "name": "stdout"
        }
      ]
    },
    {
      "cell_type": "code",
      "metadata": {
        "id": "P0jR2lKYU8mW",
        "outputId": "1dd0497f-568c-47ce-c433-9429f30c3663",
        "colab": {
          "base_uri": "https://localhost:8080/",
          "height": 51
        }
      },
      "source": [
        "psw=7;\n",
        "psw=int(input(\"your password is__\"))\n",
        "\n",
        "if psw==7:\n",
        "  print(\"welcome\");\n",
        "else:\n",
        "  print(\"incorrect password\");\n"
      ],
      "execution_count": null,
      "outputs": [
        {
          "output_type": "stream",
          "text": [
            "your password is__7\n",
            "welcome\n"
          ],
          "name": "stdout"
        }
      ]
    },
    {
      "cell_type": "code",
      "metadata": {
        "id": "ho1UgA1eYho-",
        "outputId": "9ace784c-88ab-49ea-b2e1-fea557bd1a7d",
        "colab": {
          "base_uri": "https://localhost:8080/",
          "height": 51
        }
      },
      "source": [
        "psw='789';\n",
        "psw=input(\"your password is__\")\n",
        "\n",
        "if psw=='789':\n",
        "  print(\"welcome\");\n",
        "else:\n",
        "  print(\"incorrect password\");\n"
      ],
      "execution_count": null,
      "outputs": [
        {
          "output_type": "stream",
          "text": [
            "your password is__789\n",
            "welcome\n"
          ],
          "name": "stdout"
        }
      ]
    },
    {
      "cell_type": "code",
      "metadata": {
        "id": "0-HM1k8QY3s2"
      },
      "source": [
        "age=int(input(\"your age is- \"))\n",
        "if age>=60:\n",
        "  print(\"You are old\");\n",
        "else:\n",
        "  print(\"You are young\");"
      ],
      "execution_count": null,
      "outputs": []
    },
    {
      "cell_type": "code",
      "metadata": {
        "id": "DnJxi4eLafO5"
      },
      "source": [
        "age=int(input(\"your age is- \"))\n",
        "if age>=35:\n",
        "  print(\"Go to sleep\");\n",
        "else:\n",
        "  print(\"Lets play\");\n",
        "print(\":)\")"
      ],
      "execution_count": null,
      "outputs": []
    },
    {
      "cell_type": "code",
      "metadata": {
        "id": "294Iz1GCbqpK"
      },
      "source": [
        "number=int(input(\"the number-\"))\n",
        "if number %2==0:\n",
        "  print(\"this number is EVEN\");\n",
        "else:\n",
        "  print(\"this number is ODD\");"
      ],
      "execution_count": null,
      "outputs": []
    },
    {
      "cell_type": "code",
      "metadata": {
        "id": "bXieMLOojHw2",
        "outputId": "d1ce9b8b-f3dd-49ef-ec19-e604ae6abd0a",
        "colab": {
          "base_uri": "https://localhost:8080/",
          "height": 85
        }
      },
      "source": [
        "height1=int(input(\"height number 1=\"))\n",
        "height2=int(input(\"height number 2=\"))\n",
        "if height1>=height2:\n",
        "  print(\"object 1 is longer\");\n",
        "else:\n",
        "\n",
        "  print(\"object 2 is longer\");\n",
        "print(\"This is the final result:)\")"
      ],
      "execution_count": null,
      "outputs": [
        {
          "output_type": "stream",
          "text": [
            "height number 1=764387589347597348095793475894758973489758932758974897597495783429758934758734983\n",
            "height number 2=6593478573489578934759847859748957389758934758745893478953748957489573895789375835452\n",
            "object 2 is longer\n",
            "This is the final result:)\n"
          ],
          "name": "stdout"
        }
      ]
    },
    {
      "cell_type": "code",
      "metadata": {
        "id": "7Dv9bGgL2MTr",
        "outputId": "964f50fb-c8ca-4682-b9a2-16f42f7069a6",
        "colab": {
          "base_uri": "https://localhost:8080/",
          "height": 72
        }
      },
      "source": [
        "psw=7890\n",
        "psw=int(input(\"your password is--\"));\n",
        "if psw==7890:\n",
        "  username='unknown'\n",
        "  username=input(\"your username is -\");\n",
        "  if username==\"unknown\":\n",
        "    print(\"your secrect code is 1234567890\");\n",
        "  else:\n",
        "    print(\"bye bye dude!\");\n",
        "else:\n",
        " print(\"incorrect password\");\n",
        " print(\"your ID is blocked\");\n"
      ],
      "execution_count": null,
      "outputs": [
        {
          "output_type": "stream",
          "text": [
            "your password is--7890\n",
            "your username is -unknown\n",
            "your secrect code is 1234567890\n"
          ],
          "name": "stdout"
        }
      ]
    },
    {
      "cell_type": "code",
      "metadata": {
        "id": "mZmYf221OyVC",
        "outputId": "ab34cf40-19df-440e-bfce-52412ffe1b44",
        "colab": {
          "base_uri": "https://localhost:8080/",
          "height": 72
        }
      },
      "source": [
        "num1=int(input(\"NUMBER 1 IS-\"))\n",
        "num2=int(input(\"NUMBER 2 IS-\"))\n",
        "if num1>num2:\n",
        "  print(\"NUMBER 1 IS GREATER\")\n",
        "elif num1<num2:\n",
        "  print(\"NUMBER 2 IS GREATER\")\n",
        "else:\n",
        "  print(\"BOTH NUMBERS ARE EQUAL :)\")\n"
      ],
      "execution_count": null,
      "outputs": [
        {
          "output_type": "stream",
          "text": [
            "NUMBER 1 IS-4328489327489328947632897432894\n",
            "NUMBER 2 IS-8943687632876412874871264\n",
            "NUMBER 1 IS GREATER\n"
          ],
          "name": "stdout"
        }
      ]
    },
    {
      "cell_type": "code",
      "metadata": {
        "id": "PfTRdu7fTb4o"
      },
      "source": [],
      "execution_count": null,
      "outputs": []
    },
    {
      "cell_type": "code",
      "metadata": {
        "outputId": "5009f70e-45ff-4460-83a8-57d34a1c6aee",
        "id": "icXc1mADTjn5",
        "colab": {
          "base_uri": "https://localhost:8080/",
          "height": 72
        }
      },
      "source": [
        "num1=float(input(\"NUMBER 1 IS-\"))\n",
        "num2=float(input(\"NUMBER 2 IS-\"))\n",
        "if num1>num2:\n",
        "  print(\"NUMBER 1 IS GREATER\")\n",
        "elif num1<num2:\n",
        "  print(\"NUMBER 2 IS GREATER\")\n",
        "else:\n",
        "  print(\"BOTH NUMBERS ARE EQUAL :)\")\n"
      ],
      "execution_count": null,
      "outputs": [
        {
          "output_type": "stream",
          "text": [
            "NUMBER 1 IS-5.12345678990\n",
            "NUMBER 2 IS-5.1234567890\n",
            "NUMBER 1 IS GREATER\n"
          ],
          "name": "stdout"
        }
      ]
    },
    {
      "cell_type": "code",
      "metadata": {
        "id": "bDc-F1vibuhv",
        "outputId": "129fa8c0-f0b3-4d92-c8fd-c6addc364551",
        "colab": {
          "base_uri": "https://localhost:8080/",
          "height": 163
        }
      },
      "source": [
        "n=input(\"your number is-\");\n",
        "for h in range(1,10,3):\n",
        "  print(h);\n",
        "  print(\"bye!\");\n",
        "print(\"go home :)\");"
      ],
      "execution_count": null,
      "outputs": [
        {
          "output_type": "stream",
          "text": [
            "your number is-56\n",
            "1\n",
            "bye!\n",
            "4\n",
            "bye!\n",
            "7\n",
            "bye!\n",
            "go home :)\n"
          ],
          "name": "stdout"
        }
      ]
    },
    {
      "cell_type": "code",
      "metadata": {
        "id": "HE--TQpveGQ1"
      },
      "source": [],
      "execution_count": null,
      "outputs": []
    },
    {
      "cell_type": "code",
      "metadata": {
        "outputId": "fb75f777-a114-4cc5-95d1-5e58d0c7b182",
        "id": "PXSwfGmDeIQU",
        "colab": {
          "base_uri": "https://localhost:8080/",
          "height": 254
        }
      },
      "source": [
        "n=int(input(\"your number is-\"));\n",
        "for i in range(1,11,1):\n",
        "  print(n*i);\n",
        "print(\"bye\")\n",
        "print(\"go home :)\");"
      ],
      "execution_count": null,
      "outputs": [
        {
          "output_type": "stream",
          "text": [
            "your number is-7\n",
            "7\n",
            "14\n",
            "21\n",
            "28\n",
            "35\n",
            "42\n",
            "49\n",
            "56\n",
            "63\n",
            "70\n",
            "bye\n",
            "go home :)\n"
          ],
          "name": "stdout"
        }
      ]
    },
    {
      "cell_type": "code",
      "metadata": {
        "id": "qz_Rr7xaT_o7",
        "outputId": "5b3376ef-c241-41bc-ac1f-924d51ac20b9",
        "colab": {
          "base_uri": "https://localhost:8080/",
          "height": 217
        }
      },
      "source": [
        "for i in range(10,101,10):\n",
        "  print(i);\n",
        "print(\"khatam :)\")"
      ],
      "execution_count": null,
      "outputs": [
        {
          "output_type": "stream",
          "text": [
            "10\n",
            "20\n",
            "30\n",
            "40\n",
            "50\n",
            "60\n",
            "70\n",
            "80\n",
            "90\n",
            "100\n",
            "khatam :)\n"
          ],
          "name": "stdout"
        }
      ]
    },
    {
      "cell_type": "code",
      "metadata": {
        "id": "e5Jg1ek3U1fp",
        "outputId": "a9c2246c-b99d-4de6-a8e0-c241269daaa6",
        "colab": {
          "base_uri": "https://localhost:8080/",
          "height": 217
        }
      },
      "source": [
        "for i in range(10,0,-1):\n",
        "  print(i);\n",
        "print(\"khatam\")"
      ],
      "execution_count": null,
      "outputs": [
        {
          "output_type": "stream",
          "text": [
            "10\n",
            "9\n",
            "8\n",
            "7\n",
            "6\n",
            "5\n",
            "4\n",
            "3\n",
            "2\n",
            "1\n",
            "khatam\n"
          ],
          "name": "stdout"
        }
      ]
    },
    {
      "cell_type": "code",
      "metadata": {
        "id": "8IrRN6oPkUin",
        "outputId": "660dd511-574d-434e-b0a3-06e3724aeb41",
        "colab": {
          "base_uri": "https://localhost:8080/",
          "height": 72
        }
      },
      "source": [
        "i=1\n",
        "while i<6:\n",
        "  print(i);\n",
        "  if i==3:\n",
        "    break;\n",
        "  i+=1"
      ],
      "execution_count": null,
      "outputs": [
        {
          "output_type": "stream",
          "text": [
            "1\n",
            "2\n",
            "3\n"
          ],
          "name": "stdout"
        }
      ]
    },
    {
      "cell_type": "code",
      "metadata": {
        "id": "XNSR_7Baiu85",
        "outputId": "eb06a462-89ab-4335-ac9e-7565a3909e83",
        "colab": {
          "base_uri": "https://localhost:8080/",
          "height": 235
        }
      },
      "source": [
        "n=int(input(\"your number is-\"))\n",
        "for i in range(1,n*11,1):\n",
        "  if i%n==0:\n",
        "    continue;\n",
        "  print(i);\n"
      ],
      "execution_count": null,
      "outputs": [
        {
          "output_type": "stream",
          "text": [
            "your number is-2\n",
            "1\n",
            "3\n",
            "5\n",
            "7\n",
            "9\n",
            "11\n",
            "13\n",
            "15\n",
            "17\n",
            "19\n",
            "21\n"
          ],
          "name": "stdout"
        }
      ]
    }
  ]
}