{
  "nbformat": 4,
  "nbformat_minor": 0,
  "metadata": {
    "colab": {
      "provenance": []
    },
    "kernelspec": {
      "name": "python3",
      "display_name": "Python 3"
    }
  },
  "cells": [
    {
      "cell_type": "code",
      "metadata": {
        "id": "17pM-DN-R1Gz",
        "outputId": "d4b7caac-22e8-4443-9cc5-32d648420026",
        "colab": {
          "base_uri": "https://localhost:8080/",
          "height": 35
        }
      },
      "source": [
        "def disp():\n",
        "  print(\"welcome\");\n",
        "\n",
        "disp();"
      ],
      "execution_count": null,
      "outputs": [
        {
          "output_type": "stream",
          "text": [
            "welcome\n"
          ],
          "name": "stdout"
        }
      ]
    },
    {
      "cell_type": "code",
      "metadata": {
        "id": "owDYEuUXS1KV",
        "outputId": "229ccd0d-e65e-4af9-df9c-9f0b70946e78",
        "colab": {
          "base_uri": "https://localhost:8080/",
          "height": 35
        }
      },
      "source": [
        "disp();"
      ],
      "execution_count": null,
      "outputs": [
        {
          "output_type": "stream",
          "text": [
            "welcome\n"
          ],
          "name": "stdout"
        }
      ]
    },
    {
      "cell_type": "code",
      "metadata": {
        "id": "CuPc-h6AS6NR"
      },
      "source": [
        "def namee(frj):\n",
        "  print(\"welcome\",frj);"
      ],
      "execution_count": null,
      "outputs": []
    },
    {
      "cell_type": "code",
      "metadata": {
        "id": "umlgtK5uV9rn",
        "outputId": "c6a0b760-4178-44af-ef88-6db0595d2d8b",
        "colab": {
          "base_uri": "https://localhost:8080/",
          "height": 54
        }
      },
      "source": [
        "n=input(\"your name is-\");\n",
        "namee(n);"
      ],
      "execution_count": null,
      "outputs": [
        {
          "output_type": "stream",
          "text": [
            "your name is-hrishi\n",
            "welcome hrishi\n"
          ],
          "name": "stdout"
        }
      ]
    },
    {
      "cell_type": "code",
      "metadata": {
        "id": "Du8qWrdqYGYW",
        "outputId": "1612d76b-84bc-4859-d4e2-e423adf97fe1",
        "colab": {
          "base_uri": "https://localhost:8080/",
          "height": 72
        }
      },
      "source": [
        " def name(frj,drj):\n",
        "   print(\"welcome \",frj ,drj);\n",
        "h=input(\"enter first name-\");\n",
        "k=input(\"enter last name-\");\n",
        "name(h,k);\n"
      ],
      "execution_count": null,
      "outputs": [
        {
          "output_type": "stream",
          "text": [
            "enter first name-,but \n",
            "enter last name-get lost\n",
            "welcome  ,but  get lost\n"
          ],
          "name": "stdout"
        }
      ]
    },
    {
      "cell_type": "code",
      "metadata": {
        "id": "EdfSo-AsY3Sr",
        "outputId": "367af567-bed6-406f-fdf6-14320ab6ada2",
        "colab": {
          "base_uri": "https://localhost:8080/",
          "height": 108
        }
      },
      "source": [
        "def add(h,k):\n",
        "  print(\"adition is-\",h+k);\n",
        "def sub(k,h):\n",
        "  print(\"substraction is-\",k-h);\n",
        "def mul(hh,k):\n",
        "  print(\"multiplication is-\",hh*k);\n",
        "q=int(input(\"number one is-\"));\n",
        "w=int(input(\"number 2 is-\"));\n",
        "add(q,w);\n",
        "sub(q,w);\n",
        "mul(q,w);\n"
      ],
      "execution_count": null,
      "outputs": [
        {
          "output_type": "stream",
          "text": [
            "number one is-3\n",
            "number 2 is-4\n",
            "adition is- 7\n",
            "substraction is- -1\n",
            "multiplication is- 12\n"
          ],
          "name": "stdout"
        }
      ]
    },
    {
      "cell_type": "code",
      "metadata": {
        "id": "tes4JQnAc3bh"
      },
      "source": [],
      "execution_count": null,
      "outputs": []
    },
    {
      "cell_type": "code",
      "metadata": {
        "outputId": "b0169e79-a6a5-4c4a-ae05-e06b2ece8c24",
        "id": "52njOqm9c_CT",
        "colab": {
          "base_uri": "https://localhost:8080/",
          "height": 254
        }
      },
      "source": [
        "print(\"enter operation as end to finish....\");\n",
        "print(\"calculator only with addition,substraction and multiplication...\");\n",
        "print(\"spellings should match as above......\");\n",
        "while 1==1:\n",
        "\n",
        "  def add(h,k):\n",
        "    print(\"adition is-\",h+k);\n",
        "  def sub(k,h):\n",
        "    print(\"substraction is-\",k-h);\n",
        "  def mul(hh,k):\n",
        "    print(\"multiplication is-\",hh*k);\n",
        "  op=input(\"operation to be done is -\");\n",
        "  if op==\"end\":\n",
        "    break\n",
        "  elif op != \"end\":\n",
        "    q=int(input(\"number 1-\"));\n",
        "    w=int(input(\"number 2-\"));\n",
        "    if op=='end':\n",
        "      break ;\n",
        "    elif op=='addition':\n",
        "      add(q,w);\n",
        "    elif op=='substraction':\n",
        "      sub(q,w);\n",
        "    elif op=='multiplication':\n",
        "      mul(q,w);\n",
        "    else:\n",
        "      print(\"the operation entered is wrong\");\n",
        "print(\"thank you for using indian made calculator  ;p\")\n",
        "\n",
        "\n",
        "\n"
      ],
      "execution_count": null,
      "outputs": [
        {
          "output_type": "stream",
          "text": [
            "enter operation as end to finish....\n",
            "calculator only with addition,substraction and multiplication...\n",
            "spellings should match as above......\n",
            "operation to be done is -multiplication\n",
            "number 1-45\n",
            "number 2-2\n",
            "multiplication is- 90\n",
            "operation to be done is -addition\n",
            "number 1-56\n",
            "number 2-45\n",
            "adition is- 101\n",
            "operation to be done is -end\n",
            "thank you for using indian made calculator  ;p\n"
          ],
          "name": "stdout"
        }
      ]
    },
    {
      "cell_type": "code",
      "metadata": {
        "id": "wHyUX8_Z0oQX",
        "outputId": "8c414f7b-1b83-425e-e9f6-5a55d225d723",
        "colab": {
          "base_uri": "https://localhost:8080/",
          "height": 54
        }
      },
      "source": [
        "def getsome(a,b):\n",
        "  toto=a+b\n",
        "  return toto;\n",
        "\n",
        "t=getsome(10,20);\n",
        "print(t*3);\n",
        "print(t/2);"
      ],
      "execution_count": null,
      "outputs": [
        {
          "output_type": "stream",
          "text": [
            "90\n",
            "15.0\n"
          ],
          "name": "stdout"
        }
      ]
    },
    {
      "cell_type": "code",
      "metadata": {
        "id": "iQOK2CTi3ckJ",
        "outputId": "03598432-b9dd-492a-edff-19b547d07ce8",
        "colab": {
          "base_uri": "https://localhost:8080/",
          "height": 90
        }
      },
      "source": [
        "def changelist(list1):\n",
        "  list1.append([1,2,3,4])\n",
        "  print(list1);\n",
        "  return;\n",
        "\n",
        "list=[45,56,67,23];\n",
        "changelist(list);\n",
        "print(list);\n",
        "print(list[4]);\n",
        "print(list[4][0]);"
      ],
      "execution_count": null,
      "outputs": [
        {
          "output_type": "stream",
          "text": [
            "[45, 56, 67, 23, [1, 2, 3, 4]]\n",
            "[45, 56, 67, 23, [1, 2, 3, 4]]\n",
            "[1, 2, 3, 4]\n",
            "1\n"
          ],
          "name": "stdout"
        }
      ]
    },
    {
      "cell_type": "code",
      "metadata": {
        "id": "wISe6N0z8wpJ"
      },
      "source": [
        "def printme(a,b,name):\n",
        "  tot=a+b;\n",
        "  print(tot);\n",
        "  return\n",
        ""
      ],
      "execution_count": null,
      "outputs": []
    },
    {
      "cell_type": "code",
      "metadata": {
        "id": "8U56Htpw7GP1",
        "colab": {
          "base_uri": "https://localhost:8080/",
          "height": 55
        },
        "outputId": "0560c8dd-c738-449e-bc09-512ddfdbb861"
      },
      "source": [
        "print(\"..................................................................................................................................................................................................................................................................................................................................................................................................................................................................................................................................................................................................................................................................................................\")"
      ],
      "execution_count": null,
      "outputs": [
        {
          "output_type": "stream",
          "text": [
            "..................................................................................................................................................................................................................................................................................................................................................................................................................................................................................................................................................................................................................................................................................................\n"
          ],
          "name": "stdout"
        }
      ]
    },
    {
      "cell_type": "code",
      "metadata": {
        "id": "kvTBCzqs6uMS",
        "colab": {
          "base_uri": "https://localhost:8080/",
          "height": 54
        },
        "outputId": "067f8aac-11ed-450f-d13c-85ec1957352e"
      },
      "source": [
        "printme(34,56,\"hrishi\");\n",
        "print(printme)"
      ],
      "execution_count": null,
      "outputs": [
        {
          "output_type": "stream",
          "text": [
            "90\n",
            "<function printme at 0x7f17a98d9d90>\n"
          ],
          "name": "stdout"
        }
      ]
    }
  ]
}