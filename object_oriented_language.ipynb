{
  "nbformat": 4,
  "nbformat_minor": 0,
  "metadata": {
    "colab": {
      "provenance": []
    },
    "kernelspec": {
      "name": "python3",
      "display_name": "Python 3"
    }
  },
  "cells": [
    {
      "cell_type": "code",
      "metadata": {
        "id": "6IPxpRiAY0Tu"
      },
      "source": [
        "class person:\n",
        "  def __init__(self,name,age):\n",
        "    self.nm=name;\n",
        "    self.ag=age;"
      ],
      "execution_count": null,
      "outputs": []
    },
    {
      "cell_type": "code",
      "metadata": {
        "id": "ETzysPDqfY8x",
        "colab": {
          "base_uri": "https://localhost:8080/",
          "height": 35
        },
        "outputId": "04f2b81d-3300-4d1e-c7e7-1f3965b50d63"
      },
      "source": [
        "p1=person(\"hrishikesh\",13);\n",
        "print(p1.nm,p1.ag);"
      ],
      "execution_count": null,
      "outputs": [
        {
          "output_type": "stream",
          "text": [
            "hrishikesh 13\n"
          ],
          "name": "stdout"
        }
      ]
    }
  ]
}