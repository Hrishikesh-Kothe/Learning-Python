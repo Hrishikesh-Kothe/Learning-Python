{
  "nbformat": 4,
  "nbformat_minor": 0,
  "metadata": {
    "colab": {
      "provenance": []
    },
    "kernelspec": {
      "name": "python3",
      "display_name": "Python 3"
    }
  },
  "cells": [
    {
      "cell_type": "code",
      "metadata": {
        "id": "4XzUSpNiwe8_",
        "colab": {
          "base_uri": "https://localhost:8080/"
        },
        "outputId": "014557de-8f9b-4d2a-b3a8-f9153a7f54f7"
      },
      "source": [
        "list1=[\"sparky\",\"princess\",\"bandit\",\"miner\",\"log\"];\n",
        "print(list1);"
      ],
      "execution_count": null,
      "outputs": [
        {
          "output_type": "stream",
          "text": [
            "['sparky', 'princess', 'bandit', 'miner', 'log']\n"
          ],
          "name": "stdout"
        }
      ]
    },
    {
      "cell_type": "code",
      "metadata": {
        "id": "y82cr_TExoeY"
      },
      "source": [
        "print(list1[0]);\n",
        "print(list1[2]);\n",
        "print(list1[ : :-1]);\n",
        "list1[2]=\"mega night\";\n",
        "print(list1)\n",
        "del list1[2];\n",
        "print(list1);\n",
        "list1.append(\"mega knight\")\n",
        "\n"
      ],
      "execution_count": null,
      "outputs": []
    },
    {
      "cell_type": "code",
      "metadata": {
        "id": "3XTc-8i30kvO",
        "colab": {
          "base_uri": "https://localhost:8080/"
        },
        "outputId": "a9f17416-e42a-4ba0-91a0-3c4a8e115666"
      },
      "source": [
        "a=[342342342343242323532532523,5352452345352354352453414231415,3463464342664463643664663446346334634646346346];\n",
        "print(max(a))"
      ],
      "execution_count": null,
      "outputs": [
        {
          "output_type": "stream",
          "name": "stdout",
          "text": [
            "3463464342664463643664663446346334634646346346\n"
          ]
        }
      ]
    },
    {
      "cell_type": "code",
      "metadata": {
        "id": "bIFj71K8_zix",
        "colab": {
          "base_uri": "https://localhost:8080/"
        },
        "outputId": "2cad400c-b199-4974-a71a-efb8928acecd"
      },
      "source": [
        "num=[10,20,30,40,50];\n",
        "sqrs=[];\n",
        "for n in num :\n",
        "  sqrs.append(n**2);\n",
        "print(sqrs);\n"
      ],
      "execution_count": null,
      "outputs": [
        {
          "output_type": "stream",
          "name": "stdout",
          "text": [
            "[100, 400, 900, 1600, 2500]\n"
          ]
        }
      ]
    },
    {
      "cell_type": "code",
      "metadata": {
        "id": "VULZR6BV55Kt",
        "colab": {
          "base_uri": "https://localhost:8080/"
        },
        "outputId": "c7009a34-ce8a-423c-a2e5-b3c709e8d1d8"
      },
      "source": [
        "#tuple\n",
        "cr=(\"sparky\",\"bandit\",\"princess\",98598209589389,32958,832905,30258,82352,3252,90,632983,92850);\n",
        "print(cr[0]);\n",
        "print(cr[2]);\n",
        "print(cr[9])"
      ],
      "execution_count": null,
      "outputs": [
        {
          "output_type": "stream",
          "text": [
            "sparky\n",
            "princess\n",
            "90\n"
          ],
          "name": "stdout"
        }
      ]
    },
    {
      "cell_type": "code",
      "metadata": {
        "id": "amq7Mwsu_Y1Q"
      },
      "source": [
        "rare={12,32,12,12,12,12,12,12,12,12,2,112,12,12,1212,234,2,43,5,3,1,32,3,43,3,6435,4,5,34,2,4,24,34,12,34,35466,4,}\n",
        "print(rare)"
      ],
      "execution_count": null,
      "outputs": []
    },
    {
      "cell_type": "code",
      "metadata": {
        "id": "SOVV7pP6E1ek",
        "colab": {
          "base_uri": "https://localhost:8080/"
        },
        "outputId": "c16d2750-9d5f-429e-bc26-a917cdb8b130"
      },
      "source": [
        "a={12,23,34};\n",
        "b={12,224,46};\n",
        "print(a|b);\n",
        "print(a&b);\n",
        "print(\"khatam\");\n",
        "print(a-b);\n",
        "print(b-a);\n",
        "print(a^b)\n",
        "\n"
      ],
      "execution_count": null,
      "outputs": [
        {
          "output_type": "stream",
          "name": "stdout",
          "text": [
            "{224, 34, 23, 12, 46}\n",
            "{12}\n",
            "khatam\n",
            "{34, 23}\n",
            "{224, 46}\n",
            "{224, 34, 46, 23}\n"
          ]
        }
      ]
    },
    {
      "cell_type": "code",
      "metadata": {
        "id": "yqB6pAEvIegn"
      },
      "source": [
        "print(\"                     Bill                         \");\n",
        "print(\"           input item as exit to end.....\");\n",
        "it=[ ];\n",
        "final=[ ];\n",
        "total=0\n",
        "while 1==1:\n",
        "  item=input(\"your item is- \");\n",
        "  it.append(item);\n",
        "  if item==\"exit\":\n",
        "    break\n",
        "  print(\"your item is\",item);\n",
        "  unit=int(input(\"items unit price is-\"));\n",
        "  print(\"items unit price is\",unit);\n",
        "  quantity=int(input(\"quantity of item is-\"));\n",
        "  total=total+(unit*quantity);\n",
        "  final.append(unit*quantity);\n",
        "print(\"your items are\",it);\n",
        "print(\"please ignore 'exit'\");\n",
        "print(\"your grand total is\",final)\n",
        "print('you need to pay $',total);\n",
        "print(\"thank you\")\n",
        "print(\"bye-bye :D   ..................\");\n",
        "print(\".............................................................................\");"
      ],
      "execution_count": null,
      "outputs": []
    },
    {
      "cell_type": "code",
      "metadata": {
        "id": "FU_bL1jEG8tA",
        "colab": {
          "base_uri": "https://localhost:8080/"
        },
        "outputId": "eb075d75-805d-4ef2-eb57-73c0eeea446f"
      },
      "source": [
        "#this is dictionary\n",
        "dict={\"name\":\"hrishikesh\",\n",
        "      \"age\":15,\n",
        "      \"adress\":\"nagpur\",\n",
        "      \"name\":\"thanos\"};\n",
        "print(dict);\n",
        "print(dict[\"name\"]);\n",
        "print(\"name is-\",dict[\"name\"]);\n",
        "dict[\"age\"]=13 ;\n",
        "print(dict);\n",
        "dict[\"name\"]=\"hrishi\";\n",
        "print(dict);\n",
        "del dict[\"adress\"];\n",
        "print(dict);\n",
        "print(dict[\"name\"]);"
      ],
      "execution_count": null,
      "outputs": [
        {
          "output_type": "stream",
          "name": "stdout",
          "text": [
            "{'name': 'thanos', 'age': 15, 'adress': 'nagpur'}\n",
            "thanos\n",
            "name is- thanos\n",
            "{'name': 'thanos', 'age': 13, 'adress': 'nagpur'}\n",
            "{'name': 'hrishi', 'age': 13, 'adress': 'nagpur'}\n",
            "{'name': 'hrishi', 'age': 13}\n",
            "hrishi\n"
          ]
        }
      ]
    },
    {
      "cell_type": "markdown",
      "metadata": {
        "id": "HiF1qgEvh7Rv"
      },
      "source": []
    },
    {
      "cell_type": "code",
      "metadata": {
        "id": "doI4MJdpQ_e_"
      },
      "source": [
        "for x in dict:\n",
        "  print(x);\n",
        "  print(dict[x]);\n",
        "for d in dict.values() :\n",
        "  print(d)\n"
      ],
      "execution_count": null,
      "outputs": []
    },
    {
      "cell_type": "code",
      "metadata": {
        "id": "JnO9RkbTV7pZ"
      },
      "source": [
        "for x,y in dict.items():\n",
        "  print(x,y);"
      ],
      "execution_count": null,
      "outputs": []
    }
  ]
}